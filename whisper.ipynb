{
 "cells": [
  {
   "cell_type": "markdown",
   "metadata": {
    "id": "8t0V82zPuJtF"
   },
   "source": []
  },
  {
   "cell_type": "code",
   "execution_count": null,
   "metadata": {
    "colab": {
     "base_uri": "https://localhost:8080/"
    },
    "executionInfo": {
     "elapsed": 27829,
     "status": "ok",
     "timestamp": 1732688607975,
     "user": {
      "displayName": "横山泰知",
      "userId": "08616397162045207395"
     },
     "user_tz": -540
    },
    "id": "OwrHYKAWt-fU",
    "outputId": "b390669d-612b-4d1e-9bf8-119f4f31f514"
   },
   "outputs": [],
   "source": [
    "! pip install git+https://github.com/openai/whisper.git\n",
    "\n",
    "#! pip install ffmpeg-python\n",
    "\n",
    "\n"
   ]
  },
  {
   "cell_type": "code",
   "execution_count": null,
   "metadata": {
    "colab": {
     "base_uri": "https://localhost:8080/"
    },
    "executionInfo": {
     "elapsed": 9,
     "status": "ok",
     "timestamp": 1732688607975,
     "user": {
      "displayName": "横山泰知",
      "userId": "08616397162045207395"
     },
     "user_tz": -540
    },
    "id": "kX-hVOyYzyid",
    "outputId": "912d9e9d-c9cd-46f5-8d79-069ca996bd04"
   },
   "outputs": [],
   "source": [
    "import os\n",
    "\n",
    "#dir_path = './'\n",
    "\n",
    "files = os.listdir()\n",
    "for name in files:\n",
    "  if name.endswith(\".mp4\"):\n",
    "    file_name = name\n",
    "\n",
    "\n",
    "file_name = file_name.replace('.mp4', '')\n",
    "print(file_name)"
   ]
  },
  {
   "cell_type": "code",
   "execution_count": null,
   "metadata": {
    "colab": {
     "base_uri": "https://localhost:8080/"
    },
    "executionInfo": {
     "elapsed": 399113,
     "status": "ok",
     "timestamp": 1732689007083,
     "user": {
      "displayName": "横山泰知",
      "userId": "08616397162045207395"
     },
     "user_tz": -540
    },
    "id": "v6lTl-aMuTM7",
    "outputId": "7383074b-63c6-4a2b-efc4-57c1fb98ad20"
   },
   "outputs": [],
   "source": [
    "import whisper\n",
    "\n",
    "# modelのロード（large-v2を選択する場合）\n",
    "model = whisper.load_model(\"large-v2\")\n",
    "# 文字起こし\n",
    "result = model.transcribe(file_name + \".mp4\", verbose=True)\n"
   ]
  },
  {
   "cell_type": "code",
   "execution_count": null,
   "metadata": {
    "colab": {
     "base_uri": "https://localhost:8080/"
    },
    "executionInfo": {
     "elapsed": 7,
     "status": "ok",
     "timestamp": 1732689007083,
     "user": {
      "displayName": "横山泰知",
      "userId": "08616397162045207395"
     },
     "user_tz": -540
    },
    "id": "CGkFnsO8J3G2",
    "outputId": "2e24b1cb-565a-4342-be82-d9ba9d70707e"
   },
   "outputs": [],
   "source": [
    "print(result['text'])"
   ]
  },
  {
   "cell_type": "code",
   "execution_count": null,
   "metadata": {
    "executionInfo": {
     "elapsed": 6,
     "status": "ok",
     "timestamp": 1732689007084,
     "user": {
      "displayName": "横山泰知",
      "userId": "08616397162045207395"
     },
     "user_tz": -540
    },
    "id": "sy1Ujnkvwkkp"
   },
   "outputs": [],
   "source": [
    "import csv\n",
    "\n",
    "with open('test.csv','w',newline='') as csvfile:\n",
    "\n",
    "  writer = csv.writer(csvfile)\n",
    "\n",
    "  writer.writerows([['start_time', 'end_time', 'text']])\n",
    "  for segment in result['segments']:\n",
    "    start = round(segment['start'], 2)\n",
    "    end = round(segment['end'], 2)\n",
    "    text = segment['text']\n",
    "    writer.writerows([[start, end, text]])"
   ]
  },
  {
   "cell_type": "code",
   "execution_count": null,
   "metadata": {
    "colab": {
     "base_uri": "https://localhost:8080/"
    },
    "executionInfo": {
     "elapsed": 7874,
     "status": "ok",
     "timestamp": 1732689014953,
     "user": {
      "displayName": "横山泰知",
      "userId": "08616397162045207395"
     },
     "user_tz": -540
    },
    "id": "2aYP1OveHljo",
    "outputId": "a22ba903-8282-4c72-c111-4e36846d5f9b"
   },
   "outputs": [],
   "source": [
    "! pip install python-docx\n"
   ]
  },
  {
   "cell_type": "code",
   "execution_count": null,
   "metadata": {
    "executionInfo": {
     "elapsed": 254,
     "status": "ok",
     "timestamp": 1732689015204,
     "user": {
      "displayName": "横山泰知",
      "userId": "08616397162045207395"
     },
     "user_tz": -540
    },
    "id": "akzrakgN2t8B"
   },
   "outputs": [],
   "source": [
    "import docx\n",
    "import csv\n",
    "\n",
    "#Word文書の新規作成\n",
    "doc = docx.Document()\n",
    "\n",
    "doc.add_heading(file_name[14:])\n",
    "\n",
    "#段落を追加する\n",
    "doc.add_paragraph(file_name[0:4]+ '年'+ file_name[4:6]+ '月' +file_name[6:8]+ '日放送')\n",
    "\n",
    "#csvファイルを読み込み\n",
    "with open('test.csv') as f:\n",
    "    reader = csv.reader(f)\n",
    "    l = [row for row in reader]\n",
    "\n",
    "doc.add_table(rows=len(l), cols=len(l[0]))\n",
    "tbl = doc.tables[0]\n",
    "r = 0\n",
    "c = 0\n",
    "for row in tbl.rows:\n",
    "    for cell in row.cells:\n",
    "        cell.add_paragraph(l[r][c])\n",
    "        c += 1\n",
    "    c = 0\n",
    "    r += 1\n",
    "\n",
    "\n",
    "#Word文書の保存\n",
    "doc.save(\"台本_\" + file_name + \".docx\")"
   ]
  },
  {
   "cell_type": "code",
   "execution_count": null,
   "metadata": {
    "id": "LJhIc1YPCdCX"
   },
   "outputs": [],
   "source": [
    "\n"
   ]
  },
  {
   "cell_type": "code",
   "execution_count": null,
   "metadata": {},
   "outputs": [],
   "source": []
  }
 ],
 "metadata": {
  "accelerator": "GPU",
  "colab": {
   "gpuType": "T4",
   "provenance": []
  },
  "kernelspec": {
   "display_name": "Python 3",
   "name": "python3"
  },
  "language_info": {
   "codemirror_mode": {
    "name": "ipython",
    "version": 3
   },
   "file_extension": ".py",
   "mimetype": "text/x-python",
   "name": "python",
   "nbconvert_exporter": "python",
   "pygments_lexer": "ipython3",
   "version": "3.13.0"
  }
 },
 "nbformat": 4,
 "nbformat_minor": 0
}
